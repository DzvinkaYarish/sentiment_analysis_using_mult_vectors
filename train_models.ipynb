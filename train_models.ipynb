{
 "cells": [
  {
   "cell_type": "code",
   "execution_count": 6,
   "metadata": {},
   "outputs": [],
   "source": [
    "import json\n",
    "import io\n",
    "import numpy as np\n",
    "import pandas as pd\n",
    "\n",
    "\n",
    "from keras.layers import Embedding, Conv1D, MaxPooling1D, Flatten, Dense, Input, GlobalMaxPooling1D, Dropout, concatenate, LSTM\n",
    "from keras.models import Model\n",
    "from keras import optimizers\n",
    "from keras.preprocessing.text import text_to_word_sequence\n",
    "from keras.preprocessing.sequence import pad_sequences\n",
    "\n",
    "from sklearn.model_selection import train_test_split\n",
    "import matplotlib.pyplot as plt"
   ]
  },
  {
   "cell_type": "code",
   "execution_count": 9,
   "metadata": {},
   "outputs": [],
   "source": [
    "MAX_SEQ_LENGTH = 20\n",
    "EMBEDDING_DIM = 300"
   ]
  },
  {
   "cell_type": "code",
   "execution_count": 2,
   "metadata": {},
   "outputs": [],
   "source": [
    "def load_vec(emb_path, nmax=1000000):\n",
    "    vectors = []\n",
    "    word2id = {}\n",
    "    with io.open(emb_path, 'r', encoding='utf-8', newline='\\n', errors='ignore') as f:\n",
    "        next(f)\n",
    "        for i, line in enumerate(f):\n",
    "            word, vect = line.rstrip().split(' ', 1)\n",
    "            vect = np.fromstring(vect, sep=' ')\n",
    "            assert word not in word2id, 'word found twice'\n",
    "            vectors.append(vect)\n",
    "            word2id[word] = len(word2id)\n",
    "            if len(word2id) == nmax:\n",
    "                break\n",
    "    id2word = {v: k for k, v in word2id.items()}\n",
    "    embeddings = np.vstack(vectors)\n",
    "    return embeddings, id2word, word2id\n"
   ]
  },
  {
   "cell_type": "code",
   "execution_count": 3,
   "metadata": {},
   "outputs": [],
   "source": [
    "def process_data(df):\n",
    "    dff = df[:300000]\n",
    "    X = [text_to_word_sequence(rev) for rev in dff['text'].tolist()]\n",
    "    y = np.array(dff['tone'])\n",
    "    return X, y"
   ]
  },
  {
   "cell_type": "code",
   "execution_count": 4,
   "metadata": {},
   "outputs": [],
   "source": [
    "def load_reviews(pathes):\n",
    "    reviews = []\n",
    "    for path in pathes:\n",
    "        with open(path) as f:\n",
    "            rev = \"\"\n",
    "            for line in f.readlines():\n",
    "                rev += line\n",
    "               \n",
    "                if line.strip().endswith(\"}\"):\n",
    "\n",
    "                    rev = rev.replace(\"'\", \"\")\n",
    "                    reviews.append(json.loads(rev))\n",
    "\n",
    "                    rev = \"\"\n",
    "    df = pd.DataFrame(reviews)\n",
    "    return df"
   ]
  },
  {
   "cell_type": "code",
   "execution_count": 7,
   "metadata": {},
   "outputs": [
    {
     "data": {
      "text/html": [
       "<div>\n",
       "<style scoped>\n",
       "    .dataframe tbody tr th:only-of-type {\n",
       "        vertical-align: middle;\n",
       "    }\n",
       "\n",
       "    .dataframe tbody tr th {\n",
       "        vertical-align: top;\n",
       "    }\n",
       "\n",
       "    .dataframe thead th {\n",
       "        text-align: right;\n",
       "    }\n",
       "</style>\n",
       "<table border=\"1\" class=\"dataframe\">\n",
       "  <thead>\n",
       "    <tr style=\"text-align: right;\">\n",
       "      <th></th>\n",
       "      <th>business_id</th>\n",
       "      <th>cool</th>\n",
       "      <th>date</th>\n",
       "      <th>funny</th>\n",
       "      <th>review_id</th>\n",
       "      <th>stars</th>\n",
       "      <th>text</th>\n",
       "      <th>useful</th>\n",
       "      <th>user_id</th>\n",
       "      <th>tone</th>\n",
       "    </tr>\n",
       "  </thead>\n",
       "  <tbody>\n",
       "    <tr>\n",
       "      <th>0</th>\n",
       "      <td>0SCHQdFVdfnF8AN_xjsozA</td>\n",
       "      <td>0</td>\n",
       "      <td>2016-10-08</td>\n",
       "      <td>0</td>\n",
       "      <td>PqxpFCnDGxCvueU-MtJ0dw</td>\n",
       "      <td>5</td>\n",
       "      <td>I absolutely love this place! I used to come h...</td>\n",
       "      <td>0</td>\n",
       "      <td>jp1xSiy-DD1BX2btSI8d1A</td>\n",
       "      <td>1</td>\n",
       "    </tr>\n",
       "    <tr>\n",
       "      <th>1</th>\n",
       "      <td>eJKnymd0BywNPrJw1IuXVw</td>\n",
       "      <td>0</td>\n",
       "      <td>2015-02-23</td>\n",
       "      <td>0</td>\n",
       "      <td>bGV8N7DUW5yPL2UURkYXxQ</td>\n",
       "      <td>5</td>\n",
       "      <td>Open late. GREAT bar food and excellent mixed ...</td>\n",
       "      <td>0</td>\n",
       "      <td>62AIXTmXC8IOSoedJCSj4Q</td>\n",
       "      <td>1</td>\n",
       "    </tr>\n",
       "    <tr>\n",
       "      <th>2</th>\n",
       "      <td>-BmqghX1sv7sgsxOIS2yAg</td>\n",
       "      <td>0</td>\n",
       "      <td>2015-02-23</td>\n",
       "      <td>0</td>\n",
       "      <td>HurvJRTuZ_Xh32oSpCcdOA</td>\n",
       "      <td>5</td>\n",
       "      <td>I am a big fan of Ethiopian food, if its done ...</td>\n",
       "      <td>4</td>\n",
       "      <td>62AIXTmXC8IOSoedJCSj4Q</td>\n",
       "      <td>1</td>\n",
       "    </tr>\n",
       "    <tr>\n",
       "      <th>3</th>\n",
       "      <td>U5U3c6fUEfrPt-kLqiwbKQ</td>\n",
       "      <td>0</td>\n",
       "      <td>2015-03-06</td>\n",
       "      <td>0</td>\n",
       "      <td>Y6YE0Deui30HQgvG19BgmA</td>\n",
       "      <td>5</td>\n",
       "      <td>I needed a last minute cut before an event, an...</td>\n",
       "      <td>0</td>\n",
       "      <td>62AIXTmXC8IOSoedJCSj4Q</td>\n",
       "      <td>1</td>\n",
       "    </tr>\n",
       "    <tr>\n",
       "      <th>4</th>\n",
       "      <td>ID5wWJ9C7G0hfbQilvlfxA</td>\n",
       "      <td>0</td>\n",
       "      <td>2015-02-23</td>\n",
       "      <td>0</td>\n",
       "      <td>55RFjcugTHIeWKrLUBwwwA</td>\n",
       "      <td>5</td>\n",
       "      <td>This place is a gem downtown. The decor is nic...</td>\n",
       "      <td>0</td>\n",
       "      <td>62AIXTmXC8IOSoedJCSj4Q</td>\n",
       "      <td>1</td>\n",
       "    </tr>\n",
       "  </tbody>\n",
       "</table>\n",
       "</div>"
      ],
      "text/plain": [
       "              business_id  cool        date  funny               review_id  \\\n",
       "0  0SCHQdFVdfnF8AN_xjsozA     0  2016-10-08      0  PqxpFCnDGxCvueU-MtJ0dw   \n",
       "1  eJKnymd0BywNPrJw1IuXVw     0  2015-02-23      0  bGV8N7DUW5yPL2UURkYXxQ   \n",
       "2  -BmqghX1sv7sgsxOIS2yAg     0  2015-02-23      0  HurvJRTuZ_Xh32oSpCcdOA   \n",
       "3  U5U3c6fUEfrPt-kLqiwbKQ     0  2015-03-06      0  Y6YE0Deui30HQgvG19BgmA   \n",
       "4  ID5wWJ9C7G0hfbQilvlfxA     0  2015-02-23      0  55RFjcugTHIeWKrLUBwwwA   \n",
       "\n",
       "   stars                                               text  useful  \\\n",
       "0      5  I absolutely love this place! I used to come h...       0   \n",
       "1      5  Open late. GREAT bar food and excellent mixed ...       0   \n",
       "2      5  I am a big fan of Ethiopian food, if its done ...       4   \n",
       "3      5  I needed a last minute cut before an event, an...       0   \n",
       "4      5  This place is a gem downtown. The decor is nic...       0   \n",
       "\n",
       "                  user_id  tone  \n",
       "0  jp1xSiy-DD1BX2btSI8d1A     1  \n",
       "1  62AIXTmXC8IOSoedJCSj4Q     1  \n",
       "2  62AIXTmXC8IOSoedJCSj4Q     1  \n",
       "3  62AIXTmXC8IOSoedJCSj4Q     1  \n",
       "4  62AIXTmXC8IOSoedJCSj4Q     1  "
      ]
     },
     "execution_count": 7,
     "metadata": {},
     "output_type": "execute_result"
    }
   ],
   "source": [
    "embd, id2w, w2id = load_vec('data/wiki.multi.en.vec')\n",
    "\n",
    "#load eng data\n",
    "eng_df = load_reviews(['data/xag.json'])\n",
    "mapper = {3: 1, 1: -1, 2:-1, 4:1, 5:1}\n",
    "eng_df[\"tone\"] = eng_df[\"stars\"].apply(lambda x: mapper[x])\n",
    "eng_df.head()"
   ]
  },
  {
   "cell_type": "code",
   "execution_count": 10,
   "metadata": {},
   "outputs": [
    {
     "name": "stdout",
     "output_type": "stream",
     "text": [
      "261687\n"
     ]
    }
   ],
   "source": [
    "processed_rev, y = process_data(eng_df)\n",
    "print(len(processed_rev))\n",
    "X = []\n",
    "for rev in processed_rev:\n",
    "    emdb_rev = []\n",
    "    for w in rev:\n",
    "        try:\n",
    "            emdb_rev.append(w2id[w])\n",
    "        except KeyError:\n",
    "            continue\n",
    "    X.append(emdb_rev)\n",
    "X = pad_sequences(X, maxlen=MAX_SEQ_LENGTH)"
   ]
  },
  {
   "cell_type": "code",
   "execution_count": 8,
   "metadata": {},
   "outputs": [
    {
     "data": {
      "text/plain": [
       "(261687,)"
      ]
     },
     "execution_count": 8,
     "metadata": {},
     "output_type": "execute_result"
    }
   ],
   "source": [
    "y.shape"
   ]
  },
  {
   "cell_type": "code",
   "execution_count": 11,
   "metadata": {},
   "outputs": [
    {
     "data": {
      "text/plain": [
       "(196265, 20)"
      ]
     },
     "execution_count": 11,
     "metadata": {},
     "output_type": "execute_result"
    }
   ],
   "source": [
    "X_train, X_test, y_train, y_test = train_test_split(X, y, stratify=y)\n",
    "X_train.shape"
   ]
  },
  {
   "cell_type": "code",
   "execution_count": 10,
   "metadata": {},
   "outputs": [],
   "source": [
    "sequence_input = Input(shape=(MAX_SEQ_LENGTH, ), dtype='int32')\n",
    "embedding_layer = Embedding(len(embd), EMBEDDING_DIM, weights=[embd],\n",
    "                                               input_length=MAX_SEQ_LENGTH, trainable=False)\n",
    "\n",
    "x = embedding_layer(sequence_input)\n",
    "x = Dropout(0.3)(x)\n",
    "x = Conv1D(200, 5, activation='relu')(x)\n",
    "x = MaxPooling1D(pool_size=2)(x)\n",
    "x = LSTM(100)(x)\n",
    "x = Dropout(0.3)(x)\n",
    "# x = Dense(200, activation='relu')(x)\n",
    "prob = Dense(1, activation='sigmoid')(x)\n",
    "\n",
    "model_1 = Model(sequence_input, prob)\n",
    "optimizer = optimizers.Adam(lr=0.0004)"
   ]
  },
  {
   "cell_type": "code",
   "execution_count": 11,
   "metadata": {},
   "outputs": [
    {
     "name": "stdout",
     "output_type": "stream",
     "text": [
      "_________________________________________________________________\n",
      "Layer (type)                 Output Shape              Param #   \n",
      "=================================================================\n",
      "input_1 (InputLayer)         (None, 20)                0         \n",
      "_________________________________________________________________\n",
      "embedding_1 (Embedding)      (None, 20, 300)           60000000  \n",
      "_________________________________________________________________\n",
      "dropout_1 (Dropout)          (None, 20, 300)           0         \n",
      "_________________________________________________________________\n",
      "conv1d_1 (Conv1D)            (None, 16, 200)           300200    \n",
      "_________________________________________________________________\n",
      "max_pooling1d_1 (MaxPooling1 (None, 8, 200)            0         \n",
      "_________________________________________________________________\n",
      "lstm_1 (LSTM)                (None, 100)               120400    \n",
      "_________________________________________________________________\n",
      "dropout_2 (Dropout)          (None, 100)               0         \n",
      "_________________________________________________________________\n",
      "dense_1 (Dense)              (None, 1)                 101       \n",
      "=================================================================\n",
      "Total params: 60,420,701\n",
      "Trainable params: 420,701\n",
      "Non-trainable params: 60,000,000\n",
      "_________________________________________________________________\n",
      "None\n"
     ]
    }
   ],
   "source": [
    "model_1.compile(loss='binary_crossentropy',optimizer=optimizer, metrics=['accuracy'])\n",
    "\n",
    "print(model_1.summary()) "
   ]
  },
  {
   "cell_type": "code",
   "execution_count": 12,
   "metadata": {},
   "outputs": [
    {
     "name": "stdout",
     "output_type": "stream",
     "text": [
      "Epoch 1/25\n",
      "196265/196265 [==============================] - 141s 716us/step - loss: -0.2103 - acc: 0.6027\n",
      "Epoch 2/25\n",
      "196265/196265 [==============================] - 140s 713us/step - loss: -0.7592 - acc: 0.6269\n",
      "Epoch 3/25\n",
      "196265/196265 [==============================] - 140s 713us/step - loss: -0.9937 - acc: 0.6430\n",
      "Epoch 4/25\n",
      "196265/196265 [==============================] - 143s 728us/step - loss: -1.1469 - acc: 0.6522\n",
      "Epoch 5/25\n",
      "196265/196265 [==============================] - 140s 714us/step - loss: -1.2620 - acc: 0.6602\n",
      "Epoch 6/25\n",
      "196265/196265 [==============================] - 140s 713us/step - loss: -1.3480 - acc: 0.6666\n",
      "Epoch 7/25\n",
      "196265/196265 [==============================] - 143s 726us/step - loss: -1.4256 - acc: 0.6730\n",
      "Epoch 8/25\n",
      "196265/196265 [==============================] - 139s 710us/step - loss: -1.4954 - acc: 0.6760\n",
      "Epoch 9/25\n",
      "196265/196265 [==============================] - 143s 730us/step - loss: -1.5450 - acc: 0.6789\n",
      "Epoch 10/25\n",
      "196265/196265 [==============================] - 138s 705us/step - loss: -1.6067 - acc: 0.6838\n",
      "Epoch 11/25\n",
      "196265/196265 [==============================] - 138s 705us/step - loss: -1.6505 - acc: 0.6864\n",
      "Epoch 12/25\n",
      "196265/196265 [==============================] - 142s 721us/step - loss: -1.6983 - acc: 0.6891\n",
      "Epoch 13/25\n",
      "196265/196265 [==============================] - 141s 718us/step - loss: -1.7424 - acc: 0.6932\n",
      "Epoch 14/25\n",
      "196265/196265 [==============================] - 143s 727us/step - loss: -1.7749 - acc: 0.6952\n",
      "Epoch 15/25\n",
      "196265/196265 [==============================] - 139s 708us/step - loss: -1.8076 - acc: 0.6966\n",
      "Epoch 16/25\n",
      "196265/196265 [==============================] - 139s 708us/step - loss: -1.8373 - acc: 0.6994\n",
      "Epoch 17/25\n",
      "196265/196265 [==============================] - 139s 710us/step - loss: -1.8802 - acc: 0.7009\n",
      "Epoch 18/25\n",
      "196265/196265 [==============================] - 139s 709us/step - loss: -1.8989 - acc: 0.7022\n",
      "Epoch 19/25\n",
      "196265/196265 [==============================] - 140s 713us/step - loss: -1.9356 - acc: 0.7046\n",
      "Epoch 20/25\n",
      "196265/196265 [==============================] - 142s 725us/step - loss: -1.9448 - acc: 0.7054\n",
      "Epoch 21/25\n",
      "196265/196265 [==============================] - 142s 722us/step - loss: -1.9837 - acc: 0.7077\n",
      "Epoch 22/25\n",
      "196265/196265 [==============================] - 144s 735us/step - loss: -2.0053 - acc: 0.7091\n",
      "Epoch 23/25\n",
      "196265/196265 [==============================] - 136s 693us/step - loss: -2.0158 - acc: 0.7105\n",
      "Epoch 24/25\n",
      "196265/196265 [==============================] - 134s 684us/step - loss: -2.0327 - acc: 0.7107\n",
      "Epoch 25/25\n",
      "196265/196265 [==============================] - 137s 698us/step - loss: -2.0656 - acc: 0.7128\n"
     ]
    },
    {
     "data": {
      "text/plain": [
       "<keras.callbacks.History at 0x7f7c20fc3390>"
      ]
     },
     "execution_count": 12,
     "metadata": {},
     "output_type": "execute_result"
    }
   ],
   "source": [
    "model_1.fit(X_train, y_train, epochs=25, batch_size=128) #train only on english data"
   ]
  },
  {
   "cell_type": "code",
   "execution_count": 13,
   "metadata": {},
   "outputs": [],
   "source": [
    "model_1.save('lstm_cnn_1.h5')"
   ]
  },
  {
   "cell_type": "code",
   "execution_count": 12,
   "metadata": {},
   "outputs": [
    {
     "name": "stdout",
     "output_type": "stream",
     "text": [
      "65422/65422 [==============================] - 22s 335us/step\n"
     ]
    },
    {
     "data": {
      "text/plain": [
       "[-1.6273707234858739, 0.6778606584977289]"
      ]
     },
     "execution_count": 12,
     "metadata": {},
     "output_type": "execute_result"
    }
   ],
   "source": [
    "from keras.models import load_model\n",
    "model1 = load_model('lstm_cnn.h5')\n",
    "model1.evaluate(X_test, y_test)"
   ]
  },
  {
   "cell_type": "code",
   "execution_count": 18,
   "metadata": {},
   "outputs": [
    {
     "data": {
      "text/plain": [
       "'             precision    recall  f1-score   support\\n\\n         -1       0.84      0.65      0.73     18766\\n          1       0.87      0.95      0.91     46656\\n\\navg / total       0.86      0.86      0.86     65422\\n'"
      ]
     },
     "execution_count": 18,
     "metadata": {},
     "output_type": "execute_result"
    }
   ],
   "source": [
    "from sklearn.metrics import classification_report, accuracy_score\n",
    "pred = model1.predict(X_test)\n",
    "pred_classes = []\n",
    "for p in pred:\n",
    "    if p > 0.5:\n",
    "        pred_classes.append(1)\n",
    "    else:\n",
    "        pred_classes.append(-1)\n",
    "                                  \n",
    "        \n",
    "classification_report(pred_classes, y_test)"
   ]
  },
  {
   "cell_type": "code",
   "execution_count": 17,
   "metadata": {},
   "outputs": [
    {
     "data": {
      "text/plain": [
       "0.8632111522117942"
      ]
     },
     "execution_count": 17,
     "metadata": {},
     "output_type": "execute_result"
    }
   ],
   "source": [
    "accuracy_score(y_test, pred_classes)"
   ]
  },
  {
   "cell_type": "code",
   "execution_count": null,
   "metadata": {},
   "outputs": [],
   "source": []
  }
 ],
 "metadata": {
  "kernelspec": {
   "display_name": "Python 3",
   "language": "python",
   "name": "python3"
  },
  "language_info": {
   "codemirror_mode": {
    "name": "ipython",
    "version": 3
   },
   "file_extension": ".py",
   "mimetype": "text/x-python",
   "name": "python",
   "nbconvert_exporter": "python",
   "pygments_lexer": "ipython3",
   "version": "3.6.5"
  }
 },
 "nbformat": 4,
 "nbformat_minor": 2
}
